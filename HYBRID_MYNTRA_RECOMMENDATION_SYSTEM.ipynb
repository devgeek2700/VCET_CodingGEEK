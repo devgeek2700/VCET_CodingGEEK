{
  "nbformat": 4,
  "nbformat_minor": 0,
  "metadata": {
    "colab": {
      "provenance": [],
      "toc_visible": true
    },
    "kernelspec": {
      "name": "python3",
      "display_name": "Python 3"
    },
    "language_info": {
      "name": "python"
    }
  },
  "cells": [
    {
      "cell_type": "code",
      "execution_count": null,
      "metadata": {
        "id": "Qwye4-PaTej8",
        "colab": {
          "base_uri": "https://localhost:8080/"
        },
        "outputId": "e9fed27c-de7a-47fb-e167-0720859d06cb"
      },
      "outputs": [
        {
          "output_type": "stream",
          "name": "stdout",
          "text": [
            "Requirement already satisfied: pandas in /usr/local/lib/python3.10/dist-packages (2.0.3)\n",
            "Requirement already satisfied: numpy in /usr/local/lib/python3.10/dist-packages (1.25.2)\n",
            "Requirement already satisfied: scipy in /usr/local/lib/python3.10/dist-packages (1.11.4)\n",
            "Requirement already satisfied: scikit-learn in /usr/local/lib/python3.10/dist-packages (1.2.2)\n",
            "Requirement already satisfied: tensorflow in /usr/local/lib/python3.10/dist-packages (2.15.0)\n",
            "Requirement already satisfied: transformers in /usr/local/lib/python3.10/dist-packages (4.41.2)\n",
            "Requirement already satisfied: python-dateutil>=2.8.2 in /usr/local/lib/python3.10/dist-packages (from pandas) (2.8.2)\n",
            "Requirement already satisfied: pytz>=2020.1 in /usr/local/lib/python3.10/dist-packages (from pandas) (2023.4)\n",
            "Requirement already satisfied: tzdata>=2022.1 in /usr/local/lib/python3.10/dist-packages (from pandas) (2024.1)\n",
            "Requirement already satisfied: joblib>=1.1.1 in /usr/local/lib/python3.10/dist-packages (from scikit-learn) (1.4.2)\n",
            "Requirement already satisfied: threadpoolctl>=2.0.0 in /usr/local/lib/python3.10/dist-packages (from scikit-learn) (3.5.0)\n",
            "Requirement already satisfied: absl-py>=1.0.0 in /usr/local/lib/python3.10/dist-packages (from tensorflow) (1.4.0)\n",
            "Requirement already satisfied: astunparse>=1.6.0 in /usr/local/lib/python3.10/dist-packages (from tensorflow) (1.6.3)\n",
            "Requirement already satisfied: flatbuffers>=23.5.26 in /usr/local/lib/python3.10/dist-packages (from tensorflow) (24.3.25)\n",
            "Requirement already satisfied: gast!=0.5.0,!=0.5.1,!=0.5.2,>=0.2.1 in /usr/local/lib/python3.10/dist-packages (from tensorflow) (0.6.0)\n",
            "Requirement already satisfied: google-pasta>=0.1.1 in /usr/local/lib/python3.10/dist-packages (from tensorflow) (0.2.0)\n",
            "Requirement already satisfied: h5py>=2.9.0 in /usr/local/lib/python3.10/dist-packages (from tensorflow) (3.9.0)\n",
            "Requirement already satisfied: libclang>=13.0.0 in /usr/local/lib/python3.10/dist-packages (from tensorflow) (18.1.1)\n",
            "Requirement already satisfied: ml-dtypes~=0.2.0 in /usr/local/lib/python3.10/dist-packages (from tensorflow) (0.2.0)\n",
            "Requirement already satisfied: opt-einsum>=2.3.2 in /usr/local/lib/python3.10/dist-packages (from tensorflow) (3.3.0)\n",
            "Requirement already satisfied: packaging in /usr/local/lib/python3.10/dist-packages (from tensorflow) (24.1)\n",
            "Requirement already satisfied: protobuf!=4.21.0,!=4.21.1,!=4.21.2,!=4.21.3,!=4.21.4,!=4.21.5,<5.0.0dev,>=3.20.3 in /usr/local/lib/python3.10/dist-packages (from tensorflow) (3.20.3)\n",
            "Requirement already satisfied: setuptools in /usr/local/lib/python3.10/dist-packages (from tensorflow) (67.7.2)\n",
            "Requirement already satisfied: six>=1.12.0 in /usr/local/lib/python3.10/dist-packages (from tensorflow) (1.16.0)\n",
            "Requirement already satisfied: termcolor>=1.1.0 in /usr/local/lib/python3.10/dist-packages (from tensorflow) (2.4.0)\n",
            "Requirement already satisfied: typing-extensions>=3.6.6 in /usr/local/lib/python3.10/dist-packages (from tensorflow) (4.12.2)\n",
            "Requirement already satisfied: wrapt<1.15,>=1.11.0 in /usr/local/lib/python3.10/dist-packages (from tensorflow) (1.14.1)\n",
            "Requirement already satisfied: tensorflow-io-gcs-filesystem>=0.23.1 in /usr/local/lib/python3.10/dist-packages (from tensorflow) (0.37.1)\n",
            "Requirement already satisfied: grpcio<2.0,>=1.24.3 in /usr/local/lib/python3.10/dist-packages (from tensorflow) (1.64.1)\n",
            "Requirement already satisfied: tensorboard<2.16,>=2.15 in /usr/local/lib/python3.10/dist-packages (from tensorflow) (2.15.2)\n",
            "Requirement already satisfied: tensorflow-estimator<2.16,>=2.15.0 in /usr/local/lib/python3.10/dist-packages (from tensorflow) (2.15.0)\n",
            "Requirement already satisfied: keras<2.16,>=2.15.0 in /usr/local/lib/python3.10/dist-packages (from tensorflow) (2.15.0)\n",
            "Requirement already satisfied: filelock in /usr/local/lib/python3.10/dist-packages (from transformers) (3.15.4)\n",
            "Requirement already satisfied: huggingface-hub<1.0,>=0.23.0 in /usr/local/lib/python3.10/dist-packages (from transformers) (0.23.4)\n",
            "Requirement already satisfied: pyyaml>=5.1 in /usr/local/lib/python3.10/dist-packages (from transformers) (6.0.1)\n",
            "Requirement already satisfied: regex!=2019.12.17 in /usr/local/lib/python3.10/dist-packages (from transformers) (2024.5.15)\n",
            "Requirement already satisfied: requests in /usr/local/lib/python3.10/dist-packages (from transformers) (2.31.0)\n",
            "Requirement already satisfied: tokenizers<0.20,>=0.19 in /usr/local/lib/python3.10/dist-packages (from transformers) (0.19.1)\n",
            "Requirement already satisfied: safetensors>=0.4.1 in /usr/local/lib/python3.10/dist-packages (from transformers) (0.4.3)\n",
            "Requirement already satisfied: tqdm>=4.27 in /usr/local/lib/python3.10/dist-packages (from transformers) (4.66.4)\n",
            "Requirement already satisfied: wheel<1.0,>=0.23.0 in /usr/local/lib/python3.10/dist-packages (from astunparse>=1.6.0->tensorflow) (0.43.0)\n",
            "Requirement already satisfied: fsspec>=2023.5.0 in /usr/local/lib/python3.10/dist-packages (from huggingface-hub<1.0,>=0.23.0->transformers) (2023.6.0)\n",
            "Requirement already satisfied: google-auth<3,>=1.6.3 in /usr/local/lib/python3.10/dist-packages (from tensorboard<2.16,>=2.15->tensorflow) (2.27.0)\n",
            "Requirement already satisfied: google-auth-oauthlib<2,>=0.5 in /usr/local/lib/python3.10/dist-packages (from tensorboard<2.16,>=2.15->tensorflow) (1.2.1)\n",
            "Requirement already satisfied: markdown>=2.6.8 in /usr/local/lib/python3.10/dist-packages (from tensorboard<2.16,>=2.15->tensorflow) (3.6)\n",
            "Requirement already satisfied: tensorboard-data-server<0.8.0,>=0.7.0 in /usr/local/lib/python3.10/dist-packages (from tensorboard<2.16,>=2.15->tensorflow) (0.7.2)\n",
            "Requirement already satisfied: werkzeug>=1.0.1 in /usr/local/lib/python3.10/dist-packages (from tensorboard<2.16,>=2.15->tensorflow) (3.0.3)\n",
            "Requirement already satisfied: charset-normalizer<4,>=2 in /usr/local/lib/python3.10/dist-packages (from requests->transformers) (3.3.2)\n",
            "Requirement already satisfied: idna<4,>=2.5 in /usr/local/lib/python3.10/dist-packages (from requests->transformers) (3.7)\n",
            "Requirement already satisfied: urllib3<3,>=1.21.1 in /usr/local/lib/python3.10/dist-packages (from requests->transformers) (2.0.7)\n",
            "Requirement already satisfied: certifi>=2017.4.17 in /usr/local/lib/python3.10/dist-packages (from requests->transformers) (2024.7.4)\n",
            "Requirement already satisfied: cachetools<6.0,>=2.0.0 in /usr/local/lib/python3.10/dist-packages (from google-auth<3,>=1.6.3->tensorboard<2.16,>=2.15->tensorflow) (5.3.3)\n",
            "Requirement already satisfied: pyasn1-modules>=0.2.1 in /usr/local/lib/python3.10/dist-packages (from google-auth<3,>=1.6.3->tensorboard<2.16,>=2.15->tensorflow) (0.4.0)\n",
            "Requirement already satisfied: rsa<5,>=3.1.4 in /usr/local/lib/python3.10/dist-packages (from google-auth<3,>=1.6.3->tensorboard<2.16,>=2.15->tensorflow) (4.9)\n",
            "Requirement already satisfied: requests-oauthlib>=0.7.0 in /usr/local/lib/python3.10/dist-packages (from google-auth-oauthlib<2,>=0.5->tensorboard<2.16,>=2.15->tensorflow) (1.3.1)\n",
            "Requirement already satisfied: MarkupSafe>=2.1.1 in /usr/local/lib/python3.10/dist-packages (from werkzeug>=1.0.1->tensorboard<2.16,>=2.15->tensorflow) (2.1.5)\n",
            "Requirement already satisfied: pyasn1<0.7.0,>=0.4.6 in /usr/local/lib/python3.10/dist-packages (from pyasn1-modules>=0.2.1->google-auth<3,>=1.6.3->tensorboard<2.16,>=2.15->tensorflow) (0.6.0)\n",
            "Requirement already satisfied: oauthlib>=3.0.0 in /usr/local/lib/python3.10/dist-packages (from requests-oauthlib>=0.7.0->google-auth-oauthlib<2,>=0.5->tensorboard<2.16,>=2.15->tensorflow) (3.2.2)\n"
          ]
        }
      ],
      "source": [
        "!pip install pandas numpy scipy scikit-learn tensorflow transformers"
      ]
    },
    {
      "cell_type": "code",
      "source": [
        "import pandas as pd\n",
        "import numpy as np\n",
        "from sklearn.feature_extraction.text import TfidfVectorizer\n",
        "from sklearn.decomposition import TruncatedSVD\n",
        "import torch\n",
        "from transformers import BertTokenizer, BertModel\n",
        "from sklearn.preprocessing import normalize"
      ],
      "metadata": {
        "id": "uvevIGK2T8hK"
      },
      "execution_count": null,
      "outputs": []
    },
    {
      "cell_type": "code",
      "source": [
        "from google.colab import drive\n",
        "drive.mount('/content/drive')"
      ],
      "metadata": {
        "colab": {
          "base_uri": "https://localhost:8080/"
        },
        "id": "6Q7OcfeJ6pvT",
        "outputId": "eadc7f6a-5588-4b69-b4a9-e0defa6cdb96"
      },
      "execution_count": null,
      "outputs": [
        {
          "output_type": "stream",
          "name": "stdout",
          "text": [
            "Mounted at /content/drive\n"
          ]
        }
      ]
    },
    {
      "cell_type": "code",
      "source": [
        "df = pd.read_csv('/content/drive/MyDrive/myntra dataset/Myntra Fashion Clothing.csv')"
      ],
      "metadata": {
        "id": "CXzxPHVXT8a3"
      },
      "execution_count": null,
      "outputs": []
    },
    {
      "cell_type": "code",
      "source": [
        "df"
      ],
      "metadata": {
        "colab": {
          "base_uri": "https://localhost:8080/",
          "height": 947
        },
        "id": "K7eOGY4c7GIp",
        "outputId": "d49397dd-381d-46ee-fcfe-8531bf4008da"
      },
      "execution_count": null,
      "outputs": [
        {
          "output_type": "execute_result",
          "data": {
            "text/plain": [
              "                                                   URL  Product_id  \\\n",
              "0    https://www.myntra.com/jeans/roadster/roadster...     2296012   \n",
              "1    https://www.myntra.com/track-pants/locomotive/...    13780156   \n",
              "2    https://www.myntra.com/shirts/roadster/roadste...    11895958   \n",
              "3    https://www.myntra.com/shapewear/zivame/zivame...     4335679   \n",
              "4    https://www.myntra.com/tshirts/roadster/roadst...    11690882   \n",
              "..                                                 ...         ...   \n",
              "494  https://www.myntra.com/jeans/roadster/roadster...    11274476   \n",
              "495  https://www.myntra.com/shirts/roadster/roadste...     1376192   \n",
              "496  https://www.myntra.com/dresses/tokyo-talkies/t...    10088851   \n",
              "497  https://www.myntra.com/tops/her-by-invictus/he...    10821238   \n",
              "498  https://www.myntra.com/dresses/sassafras/sassa...     1774662   \n",
              "\n",
              "           BrandName               Category Individual_category  \\\n",
              "0           Roadster            Bottom Wear               jeans   \n",
              "1         LOCOMOTIVE            Bottom Wear         track-pants   \n",
              "2           Roadster                Topwear              shirts   \n",
              "3             Zivame  Lingerie & Sleep Wear           shapewear   \n",
              "4           Roadster                Western             tshirts   \n",
              "..               ...                    ...                 ...   \n",
              "494         Roadster            Bottom Wear               jeans   \n",
              "495         Roadster                Topwear              shirts   \n",
              "496    Tokyo Talkies                Western             dresses   \n",
              "497  her by invictus                Western                tops   \n",
              "498        SASSAFRAS                Western             dresses   \n",
              "\n",
              "    category_by_Gender                                        Description  \\\n",
              "0                  Men  roadster men navy blue slim fit mid rise clean...   \n",
              "1                  Men  locomotive men black  white solid slim fit tra...   \n",
              "2                  Men  roadster men navy white  black geometric print...   \n",
              "3                Women  zivame women black saree shapewear zi3023core0...   \n",
              "4                Women  roadster women white solid v neck pure cotton ...   \n",
              "..                 ...                                                ...   \n",
              "494                Men  roadster men blue skinny fit mid rise acid was...   \n",
              "495                Men  roadster men blue pure cotton washed denim sus...   \n",
              "496              Women  tokyo talkies women rust red floral printed dress   \n",
              "497              Women  her by invictus teal blue  black conversationa...   \n",
              "498              Women  sassafras sea green  red floral print a line d...   \n",
              "\n",
              "     DiscountPrice (in Rs)  OriginalPrice (in Rs) DiscountOffer  \\\n",
              "0                    824.0                   1499       45% OFF   \n",
              "1                    517.0                   1149       55% OFF   \n",
              "2                    629.0                   1399       55% OFF   \n",
              "3                    893.0                   1295       31% OFF   \n",
              "4                      NaN                    599       35% OFF   \n",
              "..                     ...                    ...           ...   \n",
              "494                    NaN                   1999           NaN   \n",
              "495                  719.0                   1799       60% OFF   \n",
              "496                    NaN                   1399       66% OFF   \n",
              "497                    NaN                   1399       65% OFF   \n",
              "498                    NaN                   1399       49% OFF   \n",
              "\n",
              "                 SizeOption  Ratings  Reviews  \n",
              "0        28, 30, 32, 34, 36      3.9      999  \n",
              "1               S, M, L, XL      4.0      999  \n",
              "2    38, 40, 42, 44, 46, 48      4.3      999  \n",
              "3          S, M, L, XL, XXL      4.2      999  \n",
              "4           XS, S, M, L, XL      4.2      999  \n",
              "..                      ...      ...      ...  \n",
              "494      28, 30, 32, 34, 36      3.8      904  \n",
              "495          38, 40, 42, 44      4.1      904  \n",
              "496             S, M, L, XL      4.2      904  \n",
              "497        S, M, L, XL, XXL      3.8      904  \n",
              "498    XS, S, M, L, XL, XXL      4.4      904  \n",
              "\n",
              "[499 rows x 13 columns]"
            ],
            "text/html": [
              "\n",
              "  <div id=\"df-3a1de7b1-6c66-4c78-99b5-675a6c719952\" class=\"colab-df-container\">\n",
              "    <div>\n",
              "<style scoped>\n",
              "    .dataframe tbody tr th:only-of-type {\n",
              "        vertical-align: middle;\n",
              "    }\n",
              "\n",
              "    .dataframe tbody tr th {\n",
              "        vertical-align: top;\n",
              "    }\n",
              "\n",
              "    .dataframe thead th {\n",
              "        text-align: right;\n",
              "    }\n",
              "</style>\n",
              "<table border=\"1\" class=\"dataframe\">\n",
              "  <thead>\n",
              "    <tr style=\"text-align: right;\">\n",
              "      <th></th>\n",
              "      <th>URL</th>\n",
              "      <th>Product_id</th>\n",
              "      <th>BrandName</th>\n",
              "      <th>Category</th>\n",
              "      <th>Individual_category</th>\n",
              "      <th>category_by_Gender</th>\n",
              "      <th>Description</th>\n",
              "      <th>DiscountPrice (in Rs)</th>\n",
              "      <th>OriginalPrice (in Rs)</th>\n",
              "      <th>DiscountOffer</th>\n",
              "      <th>SizeOption</th>\n",
              "      <th>Ratings</th>\n",
              "      <th>Reviews</th>\n",
              "    </tr>\n",
              "  </thead>\n",
              "  <tbody>\n",
              "    <tr>\n",
              "      <th>0</th>\n",
              "      <td>https://www.myntra.com/jeans/roadster/roadster...</td>\n",
              "      <td>2296012</td>\n",
              "      <td>Roadster</td>\n",
              "      <td>Bottom Wear</td>\n",
              "      <td>jeans</td>\n",
              "      <td>Men</td>\n",
              "      <td>roadster men navy blue slim fit mid rise clean...</td>\n",
              "      <td>824.0</td>\n",
              "      <td>1499</td>\n",
              "      <td>45% OFF</td>\n",
              "      <td>28, 30, 32, 34, 36</td>\n",
              "      <td>3.9</td>\n",
              "      <td>999</td>\n",
              "    </tr>\n",
              "    <tr>\n",
              "      <th>1</th>\n",
              "      <td>https://www.myntra.com/track-pants/locomotive/...</td>\n",
              "      <td>13780156</td>\n",
              "      <td>LOCOMOTIVE</td>\n",
              "      <td>Bottom Wear</td>\n",
              "      <td>track-pants</td>\n",
              "      <td>Men</td>\n",
              "      <td>locomotive men black  white solid slim fit tra...</td>\n",
              "      <td>517.0</td>\n",
              "      <td>1149</td>\n",
              "      <td>55% OFF</td>\n",
              "      <td>S, M, L, XL</td>\n",
              "      <td>4.0</td>\n",
              "      <td>999</td>\n",
              "    </tr>\n",
              "    <tr>\n",
              "      <th>2</th>\n",
              "      <td>https://www.myntra.com/shirts/roadster/roadste...</td>\n",
              "      <td>11895958</td>\n",
              "      <td>Roadster</td>\n",
              "      <td>Topwear</td>\n",
              "      <td>shirts</td>\n",
              "      <td>Men</td>\n",
              "      <td>roadster men navy white  black geometric print...</td>\n",
              "      <td>629.0</td>\n",
              "      <td>1399</td>\n",
              "      <td>55% OFF</td>\n",
              "      <td>38, 40, 42, 44, 46, 48</td>\n",
              "      <td>4.3</td>\n",
              "      <td>999</td>\n",
              "    </tr>\n",
              "    <tr>\n",
              "      <th>3</th>\n",
              "      <td>https://www.myntra.com/shapewear/zivame/zivame...</td>\n",
              "      <td>4335679</td>\n",
              "      <td>Zivame</td>\n",
              "      <td>Lingerie &amp; Sleep Wear</td>\n",
              "      <td>shapewear</td>\n",
              "      <td>Women</td>\n",
              "      <td>zivame women black saree shapewear zi3023core0...</td>\n",
              "      <td>893.0</td>\n",
              "      <td>1295</td>\n",
              "      <td>31% OFF</td>\n",
              "      <td>S, M, L, XL, XXL</td>\n",
              "      <td>4.2</td>\n",
              "      <td>999</td>\n",
              "    </tr>\n",
              "    <tr>\n",
              "      <th>4</th>\n",
              "      <td>https://www.myntra.com/tshirts/roadster/roadst...</td>\n",
              "      <td>11690882</td>\n",
              "      <td>Roadster</td>\n",
              "      <td>Western</td>\n",
              "      <td>tshirts</td>\n",
              "      <td>Women</td>\n",
              "      <td>roadster women white solid v neck pure cotton ...</td>\n",
              "      <td>NaN</td>\n",
              "      <td>599</td>\n",
              "      <td>35% OFF</td>\n",
              "      <td>XS, S, M, L, XL</td>\n",
              "      <td>4.2</td>\n",
              "      <td>999</td>\n",
              "    </tr>\n",
              "    <tr>\n",
              "      <th>...</th>\n",
              "      <td>...</td>\n",
              "      <td>...</td>\n",
              "      <td>...</td>\n",
              "      <td>...</td>\n",
              "      <td>...</td>\n",
              "      <td>...</td>\n",
              "      <td>...</td>\n",
              "      <td>...</td>\n",
              "      <td>...</td>\n",
              "      <td>...</td>\n",
              "      <td>...</td>\n",
              "      <td>...</td>\n",
              "      <td>...</td>\n",
              "    </tr>\n",
              "    <tr>\n",
              "      <th>494</th>\n",
              "      <td>https://www.myntra.com/jeans/roadster/roadster...</td>\n",
              "      <td>11274476</td>\n",
              "      <td>Roadster</td>\n",
              "      <td>Bottom Wear</td>\n",
              "      <td>jeans</td>\n",
              "      <td>Men</td>\n",
              "      <td>roadster men blue skinny fit mid rise acid was...</td>\n",
              "      <td>NaN</td>\n",
              "      <td>1999</td>\n",
              "      <td>NaN</td>\n",
              "      <td>28, 30, 32, 34, 36</td>\n",
              "      <td>3.8</td>\n",
              "      <td>904</td>\n",
              "    </tr>\n",
              "    <tr>\n",
              "      <th>495</th>\n",
              "      <td>https://www.myntra.com/shirts/roadster/roadste...</td>\n",
              "      <td>1376192</td>\n",
              "      <td>Roadster</td>\n",
              "      <td>Topwear</td>\n",
              "      <td>shirts</td>\n",
              "      <td>Men</td>\n",
              "      <td>roadster men blue pure cotton washed denim sus...</td>\n",
              "      <td>719.0</td>\n",
              "      <td>1799</td>\n",
              "      <td>60% OFF</td>\n",
              "      <td>38, 40, 42, 44</td>\n",
              "      <td>4.1</td>\n",
              "      <td>904</td>\n",
              "    </tr>\n",
              "    <tr>\n",
              "      <th>496</th>\n",
              "      <td>https://www.myntra.com/dresses/tokyo-talkies/t...</td>\n",
              "      <td>10088851</td>\n",
              "      <td>Tokyo Talkies</td>\n",
              "      <td>Western</td>\n",
              "      <td>dresses</td>\n",
              "      <td>Women</td>\n",
              "      <td>tokyo talkies women rust red floral printed dress</td>\n",
              "      <td>NaN</td>\n",
              "      <td>1399</td>\n",
              "      <td>66% OFF</td>\n",
              "      <td>S, M, L, XL</td>\n",
              "      <td>4.2</td>\n",
              "      <td>904</td>\n",
              "    </tr>\n",
              "    <tr>\n",
              "      <th>497</th>\n",
              "      <td>https://www.myntra.com/tops/her-by-invictus/he...</td>\n",
              "      <td>10821238</td>\n",
              "      <td>her by invictus</td>\n",
              "      <td>Western</td>\n",
              "      <td>tops</td>\n",
              "      <td>Women</td>\n",
              "      <td>her by invictus teal blue  black conversationa...</td>\n",
              "      <td>NaN</td>\n",
              "      <td>1399</td>\n",
              "      <td>65% OFF</td>\n",
              "      <td>S, M, L, XL, XXL</td>\n",
              "      <td>3.8</td>\n",
              "      <td>904</td>\n",
              "    </tr>\n",
              "    <tr>\n",
              "      <th>498</th>\n",
              "      <td>https://www.myntra.com/dresses/sassafras/sassa...</td>\n",
              "      <td>1774662</td>\n",
              "      <td>SASSAFRAS</td>\n",
              "      <td>Western</td>\n",
              "      <td>dresses</td>\n",
              "      <td>Women</td>\n",
              "      <td>sassafras sea green  red floral print a line d...</td>\n",
              "      <td>NaN</td>\n",
              "      <td>1399</td>\n",
              "      <td>49% OFF</td>\n",
              "      <td>XS, S, M, L, XL, XXL</td>\n",
              "      <td>4.4</td>\n",
              "      <td>904</td>\n",
              "    </tr>\n",
              "  </tbody>\n",
              "</table>\n",
              "<p>499 rows × 13 columns</p>\n",
              "</div>\n",
              "    <div class=\"colab-df-buttons\">\n",
              "\n",
              "  <div class=\"colab-df-container\">\n",
              "    <button class=\"colab-df-convert\" onclick=\"convertToInteractive('df-3a1de7b1-6c66-4c78-99b5-675a6c719952')\"\n",
              "            title=\"Convert this dataframe to an interactive table.\"\n",
              "            style=\"display:none;\">\n",
              "\n",
              "  <svg xmlns=\"http://www.w3.org/2000/svg\" height=\"24px\" viewBox=\"0 -960 960 960\">\n",
              "    <path d=\"M120-120v-720h720v720H120Zm60-500h600v-160H180v160Zm220 220h160v-160H400v160Zm0 220h160v-160H400v160ZM180-400h160v-160H180v160Zm440 0h160v-160H620v160ZM180-180h160v-160H180v160Zm440 0h160v-160H620v160Z\"/>\n",
              "  </svg>\n",
              "    </button>\n",
              "\n",
              "  <style>\n",
              "    .colab-df-container {\n",
              "      display:flex;\n",
              "      gap: 12px;\n",
              "    }\n",
              "\n",
              "    .colab-df-convert {\n",
              "      background-color: #E8F0FE;\n",
              "      border: none;\n",
              "      border-radius: 50%;\n",
              "      cursor: pointer;\n",
              "      display: none;\n",
              "      fill: #1967D2;\n",
              "      height: 32px;\n",
              "      padding: 0 0 0 0;\n",
              "      width: 32px;\n",
              "    }\n",
              "\n",
              "    .colab-df-convert:hover {\n",
              "      background-color: #E2EBFA;\n",
              "      box-shadow: 0px 1px 2px rgba(60, 64, 67, 0.3), 0px 1px 3px 1px rgba(60, 64, 67, 0.15);\n",
              "      fill: #174EA6;\n",
              "    }\n",
              "\n",
              "    .colab-df-buttons div {\n",
              "      margin-bottom: 4px;\n",
              "    }\n",
              "\n",
              "    [theme=dark] .colab-df-convert {\n",
              "      background-color: #3B4455;\n",
              "      fill: #D2E3FC;\n",
              "    }\n",
              "\n",
              "    [theme=dark] .colab-df-convert:hover {\n",
              "      background-color: #434B5C;\n",
              "      box-shadow: 0px 1px 3px 1px rgba(0, 0, 0, 0.15);\n",
              "      filter: drop-shadow(0px 1px 2px rgba(0, 0, 0, 0.3));\n",
              "      fill: #FFFFFF;\n",
              "    }\n",
              "  </style>\n",
              "\n",
              "    <script>\n",
              "      const buttonEl =\n",
              "        document.querySelector('#df-3a1de7b1-6c66-4c78-99b5-675a6c719952 button.colab-df-convert');\n",
              "      buttonEl.style.display =\n",
              "        google.colab.kernel.accessAllowed ? 'block' : 'none';\n",
              "\n",
              "      async function convertToInteractive(key) {\n",
              "        const element = document.querySelector('#df-3a1de7b1-6c66-4c78-99b5-675a6c719952');\n",
              "        const dataTable =\n",
              "          await google.colab.kernel.invokeFunction('convertToInteractive',\n",
              "                                                    [key], {});\n",
              "        if (!dataTable) return;\n",
              "\n",
              "        const docLinkHtml = 'Like what you see? Visit the ' +\n",
              "          '<a target=\"_blank\" href=https://colab.research.google.com/notebooks/data_table.ipynb>data table notebook</a>'\n",
              "          + ' to learn more about interactive tables.';\n",
              "        element.innerHTML = '';\n",
              "        dataTable['output_type'] = 'display_data';\n",
              "        await google.colab.output.renderOutput(dataTable, element);\n",
              "        const docLink = document.createElement('div');\n",
              "        docLink.innerHTML = docLinkHtml;\n",
              "        element.appendChild(docLink);\n",
              "      }\n",
              "    </script>\n",
              "  </div>\n",
              "\n",
              "\n",
              "<div id=\"df-0721f697-a74b-4403-82d2-28f46aebfea6\">\n",
              "  <button class=\"colab-df-quickchart\" onclick=\"quickchart('df-0721f697-a74b-4403-82d2-28f46aebfea6')\"\n",
              "            title=\"Suggest charts\"\n",
              "            style=\"display:none;\">\n",
              "\n",
              "<svg xmlns=\"http://www.w3.org/2000/svg\" height=\"24px\"viewBox=\"0 0 24 24\"\n",
              "     width=\"24px\">\n",
              "    <g>\n",
              "        <path d=\"M19 3H5c-1.1 0-2 .9-2 2v14c0 1.1.9 2 2 2h14c1.1 0 2-.9 2-2V5c0-1.1-.9-2-2-2zM9 17H7v-7h2v7zm4 0h-2V7h2v10zm4 0h-2v-4h2v4z\"/>\n",
              "    </g>\n",
              "</svg>\n",
              "  </button>\n",
              "\n",
              "<style>\n",
              "  .colab-df-quickchart {\n",
              "      --bg-color: #E8F0FE;\n",
              "      --fill-color: #1967D2;\n",
              "      --hover-bg-color: #E2EBFA;\n",
              "      --hover-fill-color: #174EA6;\n",
              "      --disabled-fill-color: #AAA;\n",
              "      --disabled-bg-color: #DDD;\n",
              "  }\n",
              "\n",
              "  [theme=dark] .colab-df-quickchart {\n",
              "      --bg-color: #3B4455;\n",
              "      --fill-color: #D2E3FC;\n",
              "      --hover-bg-color: #434B5C;\n",
              "      --hover-fill-color: #FFFFFF;\n",
              "      --disabled-bg-color: #3B4455;\n",
              "      --disabled-fill-color: #666;\n",
              "  }\n",
              "\n",
              "  .colab-df-quickchart {\n",
              "    background-color: var(--bg-color);\n",
              "    border: none;\n",
              "    border-radius: 50%;\n",
              "    cursor: pointer;\n",
              "    display: none;\n",
              "    fill: var(--fill-color);\n",
              "    height: 32px;\n",
              "    padding: 0;\n",
              "    width: 32px;\n",
              "  }\n",
              "\n",
              "  .colab-df-quickchart:hover {\n",
              "    background-color: var(--hover-bg-color);\n",
              "    box-shadow: 0 1px 2px rgba(60, 64, 67, 0.3), 0 1px 3px 1px rgba(60, 64, 67, 0.15);\n",
              "    fill: var(--button-hover-fill-color);\n",
              "  }\n",
              "\n",
              "  .colab-df-quickchart-complete:disabled,\n",
              "  .colab-df-quickchart-complete:disabled:hover {\n",
              "    background-color: var(--disabled-bg-color);\n",
              "    fill: var(--disabled-fill-color);\n",
              "    box-shadow: none;\n",
              "  }\n",
              "\n",
              "  .colab-df-spinner {\n",
              "    border: 2px solid var(--fill-color);\n",
              "    border-color: transparent;\n",
              "    border-bottom-color: var(--fill-color);\n",
              "    animation:\n",
              "      spin 1s steps(1) infinite;\n",
              "  }\n",
              "\n",
              "  @keyframes spin {\n",
              "    0% {\n",
              "      border-color: transparent;\n",
              "      border-bottom-color: var(--fill-color);\n",
              "      border-left-color: var(--fill-color);\n",
              "    }\n",
              "    20% {\n",
              "      border-color: transparent;\n",
              "      border-left-color: var(--fill-color);\n",
              "      border-top-color: var(--fill-color);\n",
              "    }\n",
              "    30% {\n",
              "      border-color: transparent;\n",
              "      border-left-color: var(--fill-color);\n",
              "      border-top-color: var(--fill-color);\n",
              "      border-right-color: var(--fill-color);\n",
              "    }\n",
              "    40% {\n",
              "      border-color: transparent;\n",
              "      border-right-color: var(--fill-color);\n",
              "      border-top-color: var(--fill-color);\n",
              "    }\n",
              "    60% {\n",
              "      border-color: transparent;\n",
              "      border-right-color: var(--fill-color);\n",
              "    }\n",
              "    80% {\n",
              "      border-color: transparent;\n",
              "      border-right-color: var(--fill-color);\n",
              "      border-bottom-color: var(--fill-color);\n",
              "    }\n",
              "    90% {\n",
              "      border-color: transparent;\n",
              "      border-bottom-color: var(--fill-color);\n",
              "    }\n",
              "  }\n",
              "</style>\n",
              "\n",
              "  <script>\n",
              "    async function quickchart(key) {\n",
              "      const quickchartButtonEl =\n",
              "        document.querySelector('#' + key + ' button');\n",
              "      quickchartButtonEl.disabled = true;  // To prevent multiple clicks.\n",
              "      quickchartButtonEl.classList.add('colab-df-spinner');\n",
              "      try {\n",
              "        const charts = await google.colab.kernel.invokeFunction(\n",
              "            'suggestCharts', [key], {});\n",
              "      } catch (error) {\n",
              "        console.error('Error during call to suggestCharts:', error);\n",
              "      }\n",
              "      quickchartButtonEl.classList.remove('colab-df-spinner');\n",
              "      quickchartButtonEl.classList.add('colab-df-quickchart-complete');\n",
              "    }\n",
              "    (() => {\n",
              "      let quickchartButtonEl =\n",
              "        document.querySelector('#df-0721f697-a74b-4403-82d2-28f46aebfea6 button');\n",
              "      quickchartButtonEl.style.display =\n",
              "        google.colab.kernel.accessAllowed ? 'block' : 'none';\n",
              "    })();\n",
              "  </script>\n",
              "</div>\n",
              "\n",
              "  <div id=\"id_c9787830-b906-42b1-862a-345d9377533b\">\n",
              "    <style>\n",
              "      .colab-df-generate {\n",
              "        background-color: #E8F0FE;\n",
              "        border: none;\n",
              "        border-radius: 50%;\n",
              "        cursor: pointer;\n",
              "        display: none;\n",
              "        fill: #1967D2;\n",
              "        height: 32px;\n",
              "        padding: 0 0 0 0;\n",
              "        width: 32px;\n",
              "      }\n",
              "\n",
              "      .colab-df-generate:hover {\n",
              "        background-color: #E2EBFA;\n",
              "        box-shadow: 0px 1px 2px rgba(60, 64, 67, 0.3), 0px 1px 3px 1px rgba(60, 64, 67, 0.15);\n",
              "        fill: #174EA6;\n",
              "      }\n",
              "\n",
              "      [theme=dark] .colab-df-generate {\n",
              "        background-color: #3B4455;\n",
              "        fill: #D2E3FC;\n",
              "      }\n",
              "\n",
              "      [theme=dark] .colab-df-generate:hover {\n",
              "        background-color: #434B5C;\n",
              "        box-shadow: 0px 1px 3px 1px rgba(0, 0, 0, 0.15);\n",
              "        filter: drop-shadow(0px 1px 2px rgba(0, 0, 0, 0.3));\n",
              "        fill: #FFFFFF;\n",
              "      }\n",
              "    </style>\n",
              "    <button class=\"colab-df-generate\" onclick=\"generateWithVariable('df')\"\n",
              "            title=\"Generate code using this dataframe.\"\n",
              "            style=\"display:none;\">\n",
              "\n",
              "  <svg xmlns=\"http://www.w3.org/2000/svg\" height=\"24px\"viewBox=\"0 0 24 24\"\n",
              "       width=\"24px\">\n",
              "    <path d=\"M7,19H8.4L18.45,9,17,7.55,7,17.6ZM5,21V16.75L18.45,3.32a2,2,0,0,1,2.83,0l1.4,1.43a1.91,1.91,0,0,1,.58,1.4,1.91,1.91,0,0,1-.58,1.4L9.25,21ZM18.45,9,17,7.55Zm-12,3A5.31,5.31,0,0,0,4.9,8.1,5.31,5.31,0,0,0,1,6.5,5.31,5.31,0,0,0,4.9,4.9,5.31,5.31,0,0,0,6.5,1,5.31,5.31,0,0,0,8.1,4.9,5.31,5.31,0,0,0,12,6.5,5.46,5.46,0,0,0,6.5,12Z\"/>\n",
              "  </svg>\n",
              "    </button>\n",
              "    <script>\n",
              "      (() => {\n",
              "      const buttonEl =\n",
              "        document.querySelector('#id_c9787830-b906-42b1-862a-345d9377533b button.colab-df-generate');\n",
              "      buttonEl.style.display =\n",
              "        google.colab.kernel.accessAllowed ? 'block' : 'none';\n",
              "\n",
              "      buttonEl.onclick = () => {\n",
              "        google.colab.notebook.generateWithVariable('df');\n",
              "      }\n",
              "      })();\n",
              "    </script>\n",
              "  </div>\n",
              "\n",
              "    </div>\n",
              "  </div>\n"
            ],
            "application/vnd.google.colaboratory.intrinsic+json": {
              "type": "dataframe",
              "variable_name": "df",
              "summary": "{\n  \"name\": \"df\",\n  \"rows\": 499,\n  \"fields\": [\n    {\n      \"column\": \"URL\",\n      \"properties\": {\n        \"dtype\": \"string\",\n        \"num_unique_values\": 499,\n        \"samples\": [\n          \"https://www.myntra.com/kurtas/sangria/sangria-women-blue-geometric-printed-straight-kurta/8349181/buy\",\n          \"https://www.myntra.com/jeans/wrogn/wrogn-men-blue-slim-fit-mid-rise-clean-look-stretchable-jeans/6832275/buy\",\n          \"https://www.myntra.com/tshirts/highlander/highlander-men-charcoal-grey-slim-fit-solid-henley-neck-t-shirt/1923230/buy\"\n        ],\n        \"semantic_type\": \"\",\n        \"description\": \"\"\n      }\n    },\n    {\n      \"column\": \"Product_id\",\n      \"properties\": {\n        \"dtype\": \"number\",\n        \"std\": 4179854,\n        \"min\": 130968,\n        \"max\": 17524574,\n        \"num_unique_values\": 499,\n        \"samples\": [\n          8349181,\n          6832275,\n          1923230\n        ],\n        \"semantic_type\": \"\",\n        \"description\": \"\"\n      }\n    },\n    {\n      \"column\": \"BrandName\",\n      \"properties\": {\n        \"dtype\": \"category\",\n        \"num_unique_values\": 105,\n        \"samples\": [\n          \"Kook N Keech Marvel\",\n          \"Go Colors\",\n          \"Marie Claire\"\n        ],\n        \"semantic_type\": \"\",\n        \"description\": \"\"\n      }\n    },\n    {\n      \"column\": \"Category\",\n      \"properties\": {\n        \"dtype\": \"category\",\n        \"num_unique_values\": 8,\n        \"samples\": [\n          \"Topwear\",\n          \"Indian Wear\",\n          \"Bottom Wear\"\n        ],\n        \"semantic_type\": \"\",\n        \"description\": \"\"\n      }\n    },\n    {\n      \"column\": \"Individual_category\",\n      \"properties\": {\n        \"dtype\": \"category\",\n        \"num_unique_values\": 31,\n        \"samples\": [\n          \"jeggings\",\n          \"jackets\",\n          \"night-suits\"\n        ],\n        \"semantic_type\": \"\",\n        \"description\": \"\"\n      }\n    },\n    {\n      \"column\": \"category_by_Gender\",\n      \"properties\": {\n        \"dtype\": \"category\",\n        \"num_unique_values\": 2,\n        \"samples\": [\n          \"Women\",\n          \"Men\"\n        ],\n        \"semantic_type\": \"\",\n        \"description\": \"\"\n      }\n    },\n    {\n      \"column\": \"Description\",\n      \"properties\": {\n        \"dtype\": \"string\",\n        \"num_unique_values\": 481,\n        \"samples\": [\n          \"wrogn men blue slim fit mid rise clean look stretchable jeans\",\n          \"sangria women black  white printed straight kurta\"\n        ],\n        \"semantic_type\": \"\",\n        \"description\": \"\"\n      }\n    },\n    {\n      \"column\": \"DiscountPrice (in Rs)\",\n      \"properties\": {\n        \"dtype\": \"number\",\n        \"std\": 415.3754379955543,\n        \"min\": 164.0,\n        \"max\": 2924.0,\n        \"num_unique_values\": 152,\n        \"samples\": [\n          1294.0,\n          798.0\n        ],\n        \"semantic_type\": \"\",\n        \"description\": \"\"\n      }\n    },\n    {\n      \"column\": \"OriginalPrice (in Rs)\",\n      \"properties\": {\n        \"dtype\": \"number\",\n        \"std\": 883,\n        \"min\": 289,\n        \"max\": 6999,\n        \"num_unique_values\": 108,\n        \"samples\": [\n          729,\n          3399\n        ],\n        \"semantic_type\": \"\",\n        \"description\": \"\"\n      }\n    },\n    {\n      \"column\": \"DiscountOffer\",\n      \"properties\": {\n        \"dtype\": \"category\",\n        \"num_unique_values\": 54,\n        \"samples\": [\n          \"30% OFF\",\n          \"Rs. 100 OFF\"\n        ],\n        \"semantic_type\": \"\",\n        \"description\": \"\"\n      }\n    },\n    {\n      \"column\": \"SizeOption\",\n      \"properties\": {\n        \"dtype\": \"category\",\n        \"num_unique_values\": 39,\n        \"samples\": [\n          \"30B, 32B, 34B, 36B, 38B, 40B\",\n          \"32B, 32C, 32D, 34B, 34C, 34D, 36B, 36C, 36D, 38B, 38C, 38D\"\n        ],\n        \"semantic_type\": \"\",\n        \"description\": \"\"\n      }\n    },\n    {\n      \"column\": \"Ratings\",\n      \"properties\": {\n        \"dtype\": \"number\",\n        \"std\": 0.20879334088498588,\n        \"min\": 3.4,\n        \"max\": 4.6,\n        \"num_unique_values\": 13,\n        \"samples\": [\n          4.6,\n          3.6\n        ],\n        \"semantic_type\": \"\",\n        \"description\": \"\"\n      }\n    },\n    {\n      \"column\": \"Reviews\",\n      \"properties\": {\n        \"dtype\": \"number\",\n        \"std\": 27,\n        \"min\": 904,\n        \"max\": 999,\n        \"num_unique_values\": 96,\n        \"samples\": [\n          919,\n          922\n        ],\n        \"semantic_type\": \"\",\n        \"description\": \"\"\n      }\n    }\n  ]\n}"
            }
          },
          "metadata": {},
          "execution_count": 5
        }
      ]
    },
    {
      "cell_type": "code",
      "source": [
        "print(\"Dataset Preview:\")\n",
        "print(df.head())"
      ],
      "metadata": {
        "colab": {
          "base_uri": "https://localhost:8080/"
        },
        "id": "MJu6G4Hz8xho",
        "outputId": "bbee704d-f12a-44b4-871d-f2b00b95b33e"
      },
      "execution_count": null,
      "outputs": [
        {
          "output_type": "stream",
          "name": "stdout",
          "text": [
            "Dataset Preview:\n",
            "                                                 URL  Product_id   BrandName  \\\n",
            "0  https://www.myntra.com/jeans/roadster/roadster...     2296012    Roadster   \n",
            "1  https://www.myntra.com/track-pants/locomotive/...    13780156  LOCOMOTIVE   \n",
            "2  https://www.myntra.com/shirts/roadster/roadste...    11895958    Roadster   \n",
            "3  https://www.myntra.com/shapewear/zivame/zivame...     4335679      Zivame   \n",
            "4  https://www.myntra.com/tshirts/roadster/roadst...    11690882    Roadster   \n",
            "\n",
            "                Category Individual_category category_by_Gender  \\\n",
            "0            Bottom Wear               jeans                Men   \n",
            "1            Bottom Wear         track-pants                Men   \n",
            "2                Topwear              shirts                Men   \n",
            "3  Lingerie & Sleep Wear           shapewear              Women   \n",
            "4                Western             tshirts              Women   \n",
            "\n",
            "                                         Description  DiscountPrice (in Rs)  \\\n",
            "0  roadster men navy blue slim fit mid rise clean...                  824.0   \n",
            "1  locomotive men black  white solid slim fit tra...                  517.0   \n",
            "2  roadster men navy white  black geometric print...                  629.0   \n",
            "3  zivame women black saree shapewear zi3023core0...                  893.0   \n",
            "4  roadster women white solid v neck pure cotton ...                    NaN   \n",
            "\n",
            "   OriginalPrice (in Rs) DiscountOffer              SizeOption  Ratings  \\\n",
            "0                   1499       45% OFF      28, 30, 32, 34, 36      3.9   \n",
            "1                   1149       55% OFF             S, M, L, XL      4.0   \n",
            "2                   1399       55% OFF  38, 40, 42, 44, 46, 48      4.3   \n",
            "3                   1295       31% OFF        S, M, L, XL, XXL      4.2   \n",
            "4                    599       35% OFF         XS, S, M, L, XL      4.2   \n",
            "\n",
            "   Reviews  \n",
            "0      999  \n",
            "1      999  \n",
            "2      999  \n",
            "3      999  \n",
            "4      999  \n"
          ]
        }
      ]
    },
    {
      "cell_type": "code",
      "source": [
        "df.shape"
      ],
      "metadata": {
        "colab": {
          "base_uri": "https://localhost:8080/"
        },
        "id": "7Z-ASqfx7HOB",
        "outputId": "40fc6b36-87c8-4c14-b6cd-89c97cdbc39b"
      },
      "execution_count": null,
      "outputs": [
        {
          "output_type": "execute_result",
          "data": {
            "text/plain": [
              "(499, 13)"
            ]
          },
          "metadata": {},
          "execution_count": 9
        }
      ]
    },
    {
      "cell_type": "code",
      "source": [
        "df.info()"
      ],
      "metadata": {
        "colab": {
          "base_uri": "https://localhost:8080/"
        },
        "id": "YlFsjfQv7XfS",
        "outputId": "b8301dc3-6d8a-4803-a8db-09816ea47341"
      },
      "execution_count": null,
      "outputs": [
        {
          "output_type": "stream",
          "name": "stdout",
          "text": [
            "<class 'pandas.core.frame.DataFrame'>\n",
            "RangeIndex: 499 entries, 0 to 498\n",
            "Data columns (total 13 columns):\n",
            " #   Column                 Non-Null Count  Dtype  \n",
            "---  ------                 --------------  -----  \n",
            " 0   URL                    499 non-null    object \n",
            " 1   Product_id             499 non-null    int64  \n",
            " 2   BrandName              499 non-null    object \n",
            " 3   Category               499 non-null    object \n",
            " 4   Individual_category    499 non-null    object \n",
            " 5   category_by_Gender     499 non-null    object \n",
            " 6   Description            499 non-null    object \n",
            " 7   DiscountPrice (in Rs)  266 non-null    float64\n",
            " 8   OriginalPrice (in Rs)  499 non-null    int64  \n",
            " 9   DiscountOffer          446 non-null    object \n",
            " 10  SizeOption             499 non-null    object \n",
            " 11  Ratings                499 non-null    float64\n",
            " 12  Reviews                499 non-null    int64  \n",
            "dtypes: float64(2), int64(3), object(8)\n",
            "memory usage: 50.8+ KB\n"
          ]
        }
      ]
    },
    {
      "cell_type": "code",
      "source": [
        "df.describe()"
      ],
      "metadata": {
        "colab": {
          "base_uri": "https://localhost:8080/",
          "height": 300
        },
        "id": "d4jRDpNK7a7R",
        "outputId": "c80849eb-de38-4382-d1dc-ada95209b71d"
      },
      "execution_count": null,
      "outputs": [
        {
          "output_type": "execute_result",
          "data": {
            "text/plain": [
              "         Product_id  DiscountPrice (in Rs)  OriginalPrice (in Rs)     Ratings  \\\n",
              "count  4.990000e+02             266.000000             499.000000  499.000000   \n",
              "mean   9.578347e+06             774.699248            1623.847695    4.139279   \n",
              "std    4.179855e+06             415.375438             883.825982    0.208793   \n",
              "min    1.309680e+05             164.000000             289.000000    3.400000   \n",
              "25%    7.691922e+06             512.750000             999.000000    4.000000   \n",
              "50%    1.056080e+07             674.000000            1499.000000    4.200000   \n",
              "75%    1.206023e+07             897.500000            1999.000000    4.300000   \n",
              "max    1.752457e+07            2924.000000            6999.000000    4.600000   \n",
              "\n",
              "          Reviews  \n",
              "count  499.000000  \n",
              "mean   950.176353  \n",
              "std     27.278442  \n",
              "min    904.000000  \n",
              "25%    926.000000  \n",
              "50%    950.000000  \n",
              "75%    974.000000  \n",
              "max    999.000000  "
            ],
            "text/html": [
              "\n",
              "  <div id=\"df-20525fe6-f3ea-4719-a05e-bdd88fa6b364\" class=\"colab-df-container\">\n",
              "    <div>\n",
              "<style scoped>\n",
              "    .dataframe tbody tr th:only-of-type {\n",
              "        vertical-align: middle;\n",
              "    }\n",
              "\n",
              "    .dataframe tbody tr th {\n",
              "        vertical-align: top;\n",
              "    }\n",
              "\n",
              "    .dataframe thead th {\n",
              "        text-align: right;\n",
              "    }\n",
              "</style>\n",
              "<table border=\"1\" class=\"dataframe\">\n",
              "  <thead>\n",
              "    <tr style=\"text-align: right;\">\n",
              "      <th></th>\n",
              "      <th>Product_id</th>\n",
              "      <th>DiscountPrice (in Rs)</th>\n",
              "      <th>OriginalPrice (in Rs)</th>\n",
              "      <th>Ratings</th>\n",
              "      <th>Reviews</th>\n",
              "    </tr>\n",
              "  </thead>\n",
              "  <tbody>\n",
              "    <tr>\n",
              "      <th>count</th>\n",
              "      <td>4.990000e+02</td>\n",
              "      <td>266.000000</td>\n",
              "      <td>499.000000</td>\n",
              "      <td>499.000000</td>\n",
              "      <td>499.000000</td>\n",
              "    </tr>\n",
              "    <tr>\n",
              "      <th>mean</th>\n",
              "      <td>9.578347e+06</td>\n",
              "      <td>774.699248</td>\n",
              "      <td>1623.847695</td>\n",
              "      <td>4.139279</td>\n",
              "      <td>950.176353</td>\n",
              "    </tr>\n",
              "    <tr>\n",
              "      <th>std</th>\n",
              "      <td>4.179855e+06</td>\n",
              "      <td>415.375438</td>\n",
              "      <td>883.825982</td>\n",
              "      <td>0.208793</td>\n",
              "      <td>27.278442</td>\n",
              "    </tr>\n",
              "    <tr>\n",
              "      <th>min</th>\n",
              "      <td>1.309680e+05</td>\n",
              "      <td>164.000000</td>\n",
              "      <td>289.000000</td>\n",
              "      <td>3.400000</td>\n",
              "      <td>904.000000</td>\n",
              "    </tr>\n",
              "    <tr>\n",
              "      <th>25%</th>\n",
              "      <td>7.691922e+06</td>\n",
              "      <td>512.750000</td>\n",
              "      <td>999.000000</td>\n",
              "      <td>4.000000</td>\n",
              "      <td>926.000000</td>\n",
              "    </tr>\n",
              "    <tr>\n",
              "      <th>50%</th>\n",
              "      <td>1.056080e+07</td>\n",
              "      <td>674.000000</td>\n",
              "      <td>1499.000000</td>\n",
              "      <td>4.200000</td>\n",
              "      <td>950.000000</td>\n",
              "    </tr>\n",
              "    <tr>\n",
              "      <th>75%</th>\n",
              "      <td>1.206023e+07</td>\n",
              "      <td>897.500000</td>\n",
              "      <td>1999.000000</td>\n",
              "      <td>4.300000</td>\n",
              "      <td>974.000000</td>\n",
              "    </tr>\n",
              "    <tr>\n",
              "      <th>max</th>\n",
              "      <td>1.752457e+07</td>\n",
              "      <td>2924.000000</td>\n",
              "      <td>6999.000000</td>\n",
              "      <td>4.600000</td>\n",
              "      <td>999.000000</td>\n",
              "    </tr>\n",
              "  </tbody>\n",
              "</table>\n",
              "</div>\n",
              "    <div class=\"colab-df-buttons\">\n",
              "\n",
              "  <div class=\"colab-df-container\">\n",
              "    <button class=\"colab-df-convert\" onclick=\"convertToInteractive('df-20525fe6-f3ea-4719-a05e-bdd88fa6b364')\"\n",
              "            title=\"Convert this dataframe to an interactive table.\"\n",
              "            style=\"display:none;\">\n",
              "\n",
              "  <svg xmlns=\"http://www.w3.org/2000/svg\" height=\"24px\" viewBox=\"0 -960 960 960\">\n",
              "    <path d=\"M120-120v-720h720v720H120Zm60-500h600v-160H180v160Zm220 220h160v-160H400v160Zm0 220h160v-160H400v160ZM180-400h160v-160H180v160Zm440 0h160v-160H620v160ZM180-180h160v-160H180v160Zm440 0h160v-160H620v160Z\"/>\n",
              "  </svg>\n",
              "    </button>\n",
              "\n",
              "  <style>\n",
              "    .colab-df-container {\n",
              "      display:flex;\n",
              "      gap: 12px;\n",
              "    }\n",
              "\n",
              "    .colab-df-convert {\n",
              "      background-color: #E8F0FE;\n",
              "      border: none;\n",
              "      border-radius: 50%;\n",
              "      cursor: pointer;\n",
              "      display: none;\n",
              "      fill: #1967D2;\n",
              "      height: 32px;\n",
              "      padding: 0 0 0 0;\n",
              "      width: 32px;\n",
              "    }\n",
              "\n",
              "    .colab-df-convert:hover {\n",
              "      background-color: #E2EBFA;\n",
              "      box-shadow: 0px 1px 2px rgba(60, 64, 67, 0.3), 0px 1px 3px 1px rgba(60, 64, 67, 0.15);\n",
              "      fill: #174EA6;\n",
              "    }\n",
              "\n",
              "    .colab-df-buttons div {\n",
              "      margin-bottom: 4px;\n",
              "    }\n",
              "\n",
              "    [theme=dark] .colab-df-convert {\n",
              "      background-color: #3B4455;\n",
              "      fill: #D2E3FC;\n",
              "    }\n",
              "\n",
              "    [theme=dark] .colab-df-convert:hover {\n",
              "      background-color: #434B5C;\n",
              "      box-shadow: 0px 1px 3px 1px rgba(0, 0, 0, 0.15);\n",
              "      filter: drop-shadow(0px 1px 2px rgba(0, 0, 0, 0.3));\n",
              "      fill: #FFFFFF;\n",
              "    }\n",
              "  </style>\n",
              "\n",
              "    <script>\n",
              "      const buttonEl =\n",
              "        document.querySelector('#df-20525fe6-f3ea-4719-a05e-bdd88fa6b364 button.colab-df-convert');\n",
              "      buttonEl.style.display =\n",
              "        google.colab.kernel.accessAllowed ? 'block' : 'none';\n",
              "\n",
              "      async function convertToInteractive(key) {\n",
              "        const element = document.querySelector('#df-20525fe6-f3ea-4719-a05e-bdd88fa6b364');\n",
              "        const dataTable =\n",
              "          await google.colab.kernel.invokeFunction('convertToInteractive',\n",
              "                                                    [key], {});\n",
              "        if (!dataTable) return;\n",
              "\n",
              "        const docLinkHtml = 'Like what you see? Visit the ' +\n",
              "          '<a target=\"_blank\" href=https://colab.research.google.com/notebooks/data_table.ipynb>data table notebook</a>'\n",
              "          + ' to learn more about interactive tables.';\n",
              "        element.innerHTML = '';\n",
              "        dataTable['output_type'] = 'display_data';\n",
              "        await google.colab.output.renderOutput(dataTable, element);\n",
              "        const docLink = document.createElement('div');\n",
              "        docLink.innerHTML = docLinkHtml;\n",
              "        element.appendChild(docLink);\n",
              "      }\n",
              "    </script>\n",
              "  </div>\n",
              "\n",
              "\n",
              "<div id=\"df-b2e60c47-f764-4770-93fb-e26b9d2db554\">\n",
              "  <button class=\"colab-df-quickchart\" onclick=\"quickchart('df-b2e60c47-f764-4770-93fb-e26b9d2db554')\"\n",
              "            title=\"Suggest charts\"\n",
              "            style=\"display:none;\">\n",
              "\n",
              "<svg xmlns=\"http://www.w3.org/2000/svg\" height=\"24px\"viewBox=\"0 0 24 24\"\n",
              "     width=\"24px\">\n",
              "    <g>\n",
              "        <path d=\"M19 3H5c-1.1 0-2 .9-2 2v14c0 1.1.9 2 2 2h14c1.1 0 2-.9 2-2V5c0-1.1-.9-2-2-2zM9 17H7v-7h2v7zm4 0h-2V7h2v10zm4 0h-2v-4h2v4z\"/>\n",
              "    </g>\n",
              "</svg>\n",
              "  </button>\n",
              "\n",
              "<style>\n",
              "  .colab-df-quickchart {\n",
              "      --bg-color: #E8F0FE;\n",
              "      --fill-color: #1967D2;\n",
              "      --hover-bg-color: #E2EBFA;\n",
              "      --hover-fill-color: #174EA6;\n",
              "      --disabled-fill-color: #AAA;\n",
              "      --disabled-bg-color: #DDD;\n",
              "  }\n",
              "\n",
              "  [theme=dark] .colab-df-quickchart {\n",
              "      --bg-color: #3B4455;\n",
              "      --fill-color: #D2E3FC;\n",
              "      --hover-bg-color: #434B5C;\n",
              "      --hover-fill-color: #FFFFFF;\n",
              "      --disabled-bg-color: #3B4455;\n",
              "      --disabled-fill-color: #666;\n",
              "  }\n",
              "\n",
              "  .colab-df-quickchart {\n",
              "    background-color: var(--bg-color);\n",
              "    border: none;\n",
              "    border-radius: 50%;\n",
              "    cursor: pointer;\n",
              "    display: none;\n",
              "    fill: var(--fill-color);\n",
              "    height: 32px;\n",
              "    padding: 0;\n",
              "    width: 32px;\n",
              "  }\n",
              "\n",
              "  .colab-df-quickchart:hover {\n",
              "    background-color: var(--hover-bg-color);\n",
              "    box-shadow: 0 1px 2px rgba(60, 64, 67, 0.3), 0 1px 3px 1px rgba(60, 64, 67, 0.15);\n",
              "    fill: var(--button-hover-fill-color);\n",
              "  }\n",
              "\n",
              "  .colab-df-quickchart-complete:disabled,\n",
              "  .colab-df-quickchart-complete:disabled:hover {\n",
              "    background-color: var(--disabled-bg-color);\n",
              "    fill: var(--disabled-fill-color);\n",
              "    box-shadow: none;\n",
              "  }\n",
              "\n",
              "  .colab-df-spinner {\n",
              "    border: 2px solid var(--fill-color);\n",
              "    border-color: transparent;\n",
              "    border-bottom-color: var(--fill-color);\n",
              "    animation:\n",
              "      spin 1s steps(1) infinite;\n",
              "  }\n",
              "\n",
              "  @keyframes spin {\n",
              "    0% {\n",
              "      border-color: transparent;\n",
              "      border-bottom-color: var(--fill-color);\n",
              "      border-left-color: var(--fill-color);\n",
              "    }\n",
              "    20% {\n",
              "      border-color: transparent;\n",
              "      border-left-color: var(--fill-color);\n",
              "      border-top-color: var(--fill-color);\n",
              "    }\n",
              "    30% {\n",
              "      border-color: transparent;\n",
              "      border-left-color: var(--fill-color);\n",
              "      border-top-color: var(--fill-color);\n",
              "      border-right-color: var(--fill-color);\n",
              "    }\n",
              "    40% {\n",
              "      border-color: transparent;\n",
              "      border-right-color: var(--fill-color);\n",
              "      border-top-color: var(--fill-color);\n",
              "    }\n",
              "    60% {\n",
              "      border-color: transparent;\n",
              "      border-right-color: var(--fill-color);\n",
              "    }\n",
              "    80% {\n",
              "      border-color: transparent;\n",
              "      border-right-color: var(--fill-color);\n",
              "      border-bottom-color: var(--fill-color);\n",
              "    }\n",
              "    90% {\n",
              "      border-color: transparent;\n",
              "      border-bottom-color: var(--fill-color);\n",
              "    }\n",
              "  }\n",
              "</style>\n",
              "\n",
              "  <script>\n",
              "    async function quickchart(key) {\n",
              "      const quickchartButtonEl =\n",
              "        document.querySelector('#' + key + ' button');\n",
              "      quickchartButtonEl.disabled = true;  // To prevent multiple clicks.\n",
              "      quickchartButtonEl.classList.add('colab-df-spinner');\n",
              "      try {\n",
              "        const charts = await google.colab.kernel.invokeFunction(\n",
              "            'suggestCharts', [key], {});\n",
              "      } catch (error) {\n",
              "        console.error('Error during call to suggestCharts:', error);\n",
              "      }\n",
              "      quickchartButtonEl.classList.remove('colab-df-spinner');\n",
              "      quickchartButtonEl.classList.add('colab-df-quickchart-complete');\n",
              "    }\n",
              "    (() => {\n",
              "      let quickchartButtonEl =\n",
              "        document.querySelector('#df-b2e60c47-f764-4770-93fb-e26b9d2db554 button');\n",
              "      quickchartButtonEl.style.display =\n",
              "        google.colab.kernel.accessAllowed ? 'block' : 'none';\n",
              "    })();\n",
              "  </script>\n",
              "</div>\n",
              "\n",
              "    </div>\n",
              "  </div>\n"
            ],
            "application/vnd.google.colaboratory.intrinsic+json": {
              "type": "dataframe",
              "summary": "{\n  \"name\": \"df\",\n  \"rows\": 8,\n  \"fields\": [\n    {\n      \"column\": \"Product_id\",\n      \"properties\": {\n        \"dtype\": \"number\",\n        \"std\": 6049890.91893736,\n        \"min\": 499.0,\n        \"max\": 17524574.0,\n        \"num_unique_values\": 8,\n        \"samples\": [\n          9578347.0501002,\n          10560802.0,\n          499.0\n        ],\n        \"semantic_type\": \"\",\n        \"description\": \"\"\n      }\n    },\n    {\n      \"column\": \"DiscountPrice (in Rs)\",\n      \"properties\": {\n        \"dtype\": \"number\",\n        \"std\": 882.4464754271463,\n        \"min\": 164.0,\n        \"max\": 2924.0,\n        \"num_unique_values\": 8,\n        \"samples\": [\n          774.6992481203008,\n          674.0,\n          266.0\n        ],\n        \"semantic_type\": \"\",\n        \"description\": \"\"\n      }\n    },\n    {\n      \"column\": \"OriginalPrice (in Rs)\",\n      \"properties\": {\n        \"dtype\": \"number\",\n        \"std\": 2158.9797336486376,\n        \"min\": 289.0,\n        \"max\": 6999.0,\n        \"num_unique_values\": 8,\n        \"samples\": [\n          1623.8476953907816,\n          1499.0,\n          499.0\n        ],\n        \"semantic_type\": \"\",\n        \"description\": \"\"\n      }\n    },\n    {\n      \"column\": \"Ratings\",\n      \"properties\": {\n        \"dtype\": \"number\",\n        \"std\": 175.17376145568235,\n        \"min\": 0.20879334088498588,\n        \"max\": 499.0,\n        \"num_unique_values\": 8,\n        \"samples\": [\n          4.1392785571142285,\n          4.2,\n          499.0\n        ],\n        \"semantic_type\": \"\",\n        \"description\": \"\"\n      }\n    },\n    {\n      \"column\": \"Reviews\",\n      \"properties\": {\n        \"dtype\": \"number\",\n        \"std\": 343.4459479707838,\n        \"min\": 27.278442323310774,\n        \"max\": 999.0,\n        \"num_unique_values\": 8,\n        \"samples\": [\n          950.1763527054109,\n          950.0,\n          499.0\n        ],\n        \"semantic_type\": \"\",\n        \"description\": \"\"\n      }\n    }\n  ]\n}"
            }
          },
          "metadata": {},
          "execution_count": 11
        }
      ]
    },
    {
      "cell_type": "code",
      "source": [
        "df.isnull().sum()"
      ],
      "metadata": {
        "colab": {
          "base_uri": "https://localhost:8080/"
        },
        "id": "MLIRxGTv7r5F",
        "outputId": "3843b08a-2e5b-4a0d-9701-56f16e1b442a"
      },
      "execution_count": null,
      "outputs": [
        {
          "output_type": "execute_result",
          "data": {
            "text/plain": [
              "URL                        0\n",
              "Product_id                 0\n",
              "BrandName                  0\n",
              "Category                   0\n",
              "Individual_category        0\n",
              "category_by_Gender         0\n",
              "Description                0\n",
              "DiscountPrice (in Rs)    233\n",
              "OriginalPrice (in Rs)      0\n",
              "DiscountOffer             53\n",
              "SizeOption                 0\n",
              "Ratings                    0\n",
              "Reviews                    0\n",
              "dtype: int64"
            ]
          },
          "metadata": {},
          "execution_count": 12
        }
      ]
    },
    {
      "cell_type": "code",
      "source": [
        "# Preprocessing\n",
        "df['DiscountPrice (in Rs)'] = df['DiscountPrice (in Rs)'].fillna(df['DiscountPrice (in Rs)'].mean())\n",
        "df['Description'] = df['Description'].fillna('')\n",
        "df['Ratings'] = df['Ratings'].fillna(0)\n",
        "df['Reviews'] = df['Reviews'].fillna(0)"
      ],
      "metadata": {
        "id": "SkjavQzP70GV"
      },
      "execution_count": null,
      "outputs": []
    },
    {
      "cell_type": "code",
      "source": [
        "df.isnull().sum()"
      ],
      "metadata": {
        "colab": {
          "base_uri": "https://localhost:8080/"
        },
        "id": "n9dnhG6T78VW",
        "outputId": "fb4f19e5-8026-4dc8-e05f-c8407db7fbdb"
      },
      "execution_count": null,
      "outputs": [
        {
          "output_type": "execute_result",
          "data": {
            "text/plain": [
              "URL                       0\n",
              "Product_id                0\n",
              "BrandName                 0\n",
              "Category                  0\n",
              "Individual_category       0\n",
              "category_by_Gender        0\n",
              "Description               0\n",
              "DiscountPrice (in Rs)     0\n",
              "OriginalPrice (in Rs)     0\n",
              "DiscountOffer            53\n",
              "SizeOption                0\n",
              "Ratings                   0\n",
              "Reviews                   0\n",
              "dtype: int64"
            ]
          },
          "metadata": {},
          "execution_count": 33
        }
      ]
    },
    {
      "cell_type": "code",
      "source": [
        "print(\"\\nDataset after Preprocessing:\")\n",
        "print(df.head())"
      ],
      "metadata": {
        "colab": {
          "base_uri": "https://localhost:8080/"
        },
        "id": "6R-KbKyW9Umv",
        "outputId": "425047c6-e8c9-4908-cf31-224263ef186d"
      },
      "execution_count": null,
      "outputs": [
        {
          "output_type": "stream",
          "name": "stdout",
          "text": [
            "\n",
            "Dataset after Preprocessing:\n",
            "                                                 URL  Product_id   BrandName  \\\n",
            "0  https://www.myntra.com/jeans/roadster/roadster...     2296012    Roadster   \n",
            "1  https://www.myntra.com/track-pants/locomotive/...    13780156  LOCOMOTIVE   \n",
            "2  https://www.myntra.com/shirts/roadster/roadste...    11895958    Roadster   \n",
            "3  https://www.myntra.com/shapewear/zivame/zivame...     4335679      Zivame   \n",
            "4  https://www.myntra.com/tshirts/roadster/roadst...    11690882    Roadster   \n",
            "\n",
            "                Category Individual_category category_by_Gender  \\\n",
            "0            Bottom Wear               jeans                Men   \n",
            "1            Bottom Wear         track-pants                Men   \n",
            "2                Topwear              shirts                Men   \n",
            "3  Lingerie & Sleep Wear           shapewear              Women   \n",
            "4                Western             tshirts              Women   \n",
            "\n",
            "                                         Description  DiscountPrice (in Rs)  \\\n",
            "0  roadster men navy blue slim fit mid rise clean...             824.000000   \n",
            "1  locomotive men black  white solid slim fit tra...             517.000000   \n",
            "2  roadster men navy white  black geometric print...             629.000000   \n",
            "3  zivame women black saree shapewear zi3023core0...             893.000000   \n",
            "4  roadster women white solid v neck pure cotton ...             774.699248   \n",
            "\n",
            "   OriginalPrice (in Rs) DiscountOffer              SizeOption  Ratings  \\\n",
            "0                   1499       45% OFF      28, 30, 32, 34, 36      3.9   \n",
            "1                   1149       55% OFF             S, M, L, XL      4.0   \n",
            "2                   1399       55% OFF  38, 40, 42, 44, 46, 48      4.3   \n",
            "3                   1295       31% OFF        S, M, L, XL, XXL      4.2   \n",
            "4                    599       35% OFF         XS, S, M, L, XL      4.2   \n",
            "\n",
            "   Reviews  \n",
            "0      999  \n",
            "1      999  \n",
            "2      999  \n",
            "3      999  \n",
            "4      999  \n"
          ]
        }
      ]
    },
    {
      "cell_type": "code",
      "source": [
        "df.columns"
      ],
      "metadata": {
        "colab": {
          "base_uri": "https://localhost:8080/"
        },
        "id": "gU_X6JQr8HxE",
        "outputId": "8d1ab22d-afe3-4e62-f7d0-90bb9ade3963"
      },
      "execution_count": null,
      "outputs": [
        {
          "output_type": "execute_result",
          "data": {
            "text/plain": [
              "Index(['URL', 'Product_id', 'BrandName', 'Category', 'Individual_category',\n",
              "       'category_by_Gender', 'Description', 'DiscountPrice (in Rs)',\n",
              "       'OriginalPrice (in Rs)', 'DiscountOffer', 'SizeOption', 'Ratings',\n",
              "       'Reviews'],\n",
              "      dtype='object')"
            ]
          },
          "metadata": {},
          "execution_count": 35
        }
      ]
    },
    {
      "cell_type": "markdown",
      "source": [
        "#Content-Based Filtering"
      ],
      "metadata": {
        "id": "6N2zEUlPkUpN"
      }
    },
    {
      "cell_type": "code",
      "source": [
        "# Content-Based Filtering\n",
        "tfidf_vectorizer = TfidfVectorizer(stop_words='english')\n",
        "tfidf_matrix = tfidf_vectorizer.fit_transform(df['Description'])"
      ],
      "metadata": {
        "id": "BDAdd14w9g-y"
      },
      "execution_count": null,
      "outputs": []
    },
    {
      "cell_type": "code",
      "source": [
        "# Display the shape of the TF-IDF matrix\n",
        "print(\"\\nTF-IDF Matrix Shape:\")\n",
        "print(tfidf_matrix.shape)"
      ],
      "metadata": {
        "colab": {
          "base_uri": "https://localhost:8080/"
        },
        "id": "S01cr7qA9g8E",
        "outputId": "e86b3bf9-8aac-4fa7-9418-215bec6a5e1a"
      },
      "execution_count": null,
      "outputs": [
        {
          "output_type": "stream",
          "name": "stdout",
          "text": [
            "\n",
            "TF-IDF Matrix Shape:\n",
            "(499, 527)\n"
          ]
        }
      ]
    },
    {
      "cell_type": "markdown",
      "source": [
        "#Collaborative Filtering Model"
      ],
      "metadata": {
        "id": "2Pi1LWtCkeML"
      }
    },
    {
      "cell_type": "code",
      "source": [
        "# Collaborative Filtering\n",
        "user_ratings = df.pivot_table(index='Product_id', columns='Ratings', values='Reviews').fillna(0)\n"
      ],
      "metadata": {
        "id": "vHI_IHy69g5b"
      },
      "execution_count": null,
      "outputs": []
    },
    {
      "cell_type": "code",
      "source": [
        "# Display the user-item interaction matrix\n",
        "print(\"\\nUser-Item Interaction Matrix:\")\n",
        "print(user_ratings.head())"
      ],
      "metadata": {
        "colab": {
          "base_uri": "https://localhost:8080/"
        },
        "id": "wyHdlDtD9g2h",
        "outputId": "95088b1c-511e-4fb1-d0ce-d8c388b5a514"
      },
      "execution_count": null,
      "outputs": [
        {
          "output_type": "stream",
          "name": "stdout",
          "text": [
            "\n",
            "User-Item Interaction Matrix:\n",
            "Ratings     3.4  3.5    3.6  3.7    3.8    3.9  4.0  4.1  4.2  4.3    4.4  \\\n",
            "Product_id                                                                  \n",
            "130968      0.0  0.0    0.0  0.0    0.0    0.0  0.0  0.0  0.0  0.0  985.0   \n",
            "596473      0.0  0.0  978.0  0.0    0.0    0.0  0.0  0.0  0.0  0.0    0.0   \n",
            "782799      0.0  0.0    0.0  0.0  973.0    0.0  0.0  0.0  0.0  0.0    0.0   \n",
            "851425      0.0  0.0    0.0  0.0    0.0  907.0  0.0  0.0  0.0  0.0    0.0   \n",
            "976816      0.0  0.0    0.0  0.0    0.0    0.0  0.0  0.0  0.0  0.0    0.0   \n",
            "\n",
            "Ratings       4.5  4.6  \n",
            "Product_id              \n",
            "130968        0.0  0.0  \n",
            "596473        0.0  0.0  \n",
            "782799        0.0  0.0  \n",
            "851425        0.0  0.0  \n",
            "976816      987.0  0.0  \n"
          ]
        }
      ]
    },
    {
      "cell_type": "code",
      "source": [
        "# Perform SVD\n",
        "svd = TruncatedSVD(n_components=10)\n",
        "latent_matrix = svd.fit_transform(user_ratings)"
      ],
      "metadata": {
        "id": "Snh5wC5wrUye"
      },
      "execution_count": null,
      "outputs": []
    },
    {
      "cell_type": "code",
      "source": [
        "\n",
        "# Display the shape of the latent matrix\n",
        "print(\"\\nLatent Matrix Shape:\")\n",
        "print(latent_matrix.shape)"
      ],
      "metadata": {
        "colab": {
          "base_uri": "https://localhost:8080/"
        },
        "id": "sKeH5izZ_7AH",
        "outputId": "91473546-911a-4213-fd09-e530d848c400"
      },
      "execution_count": null,
      "outputs": [
        {
          "output_type": "stream",
          "name": "stdout",
          "text": [
            "\n",
            "Latent Matrix Shape:\n",
            "(499, 10)\n"
          ]
        }
      ]
    },
    {
      "cell_type": "markdown",
      "source": [
        "#Hybrid Recommendation System"
      ],
      "metadata": {
        "id": "REJimtnakj5n"
      }
    },
    {
      "cell_type": "code",
      "source": [
        "from sklearn.metrics.pairwise import cosine_similarity\n",
        "from sklearn.preprocessing import MinMaxScaler"
      ],
      "metadata": {
        "id": "KGzBPdhJskX5"
      },
      "execution_count": null,
      "outputs": []
    },
    {
      "cell_type": "code",
      "source": [
        "# Min-Max Scaling for combining scores\n",
        "scaler = MinMaxScaler()\n"
      ],
      "metadata": {
        "id": "uJSmG1wvsnKY"
      },
      "execution_count": null,
      "outputs": []
    },
    {
      "cell_type": "code",
      "source": [
        "def recommend_products(input_value, top_n=5):\n",
        "    # Initialize product as an empty DataFrame\n",
        "    product = pd.DataFrame()\n",
        "\n",
        "    # Check if input is URL, Product_id, or Description\n",
        "    if isinstance(input_value, str) and input_value.startswith('http'):\n",
        "        product = df[df['URL'] == input_value]\n",
        "    elif isinstance(input_value, str) and input_value.isnumeric():\n",
        "        product = df[df['Product_id'] == int(input_value)]\n",
        "    else:\n",
        "        product = df[df['Description'].str.contains(input_value, case=False, na=False)]\n",
        "\n",
        "    if product.empty:\n",
        "        return \"No matching product found.\"\n",
        "\n",
        "    product_index = product.index[0]\n",
        "\n",
        "    print(\"\\nMatched Product:\")\n",
        "    print(product)\n",
        "\n",
        "    # Content-based recommendation\n",
        "    cosine_similarities = cosine_similarity(tfidf_matrix[product_index], tfidf_matrix).flatten()\n",
        "\n",
        "     # Print content-based similarity scores\n",
        "    # print(\"\\nContent-based Similarities:\")\n",
        "    # print(cosine_similarities)\n",
        "\n",
        "    # Collaborative filtering recommendation\n",
        "    product_latent_vector = latent_matrix[product_index].reshape(1, -1)\n",
        "    collaborative_similarities = cosine_similarity(product_latent_vector, latent_matrix).flatten()\n",
        "\n",
        "    # Collaborative filtering recommendation\n",
        "    product_latent_vector = latent_matrix[product_index].reshape(1, -1)\n",
        "    collaborative_similarities = cosine_similarity(product_latent_vector, latent_matrix).flatten()\n",
        "\n",
        "    # Normalize scores\n",
        "    cosine_similarities = scaler.fit_transform(cosine_similarities.reshape(-1, 1)).flatten()\n",
        "    collaborative_similarities = scaler.fit_transform(collaborative_similarities.reshape(-1, 1)).flatten()\n",
        "\n",
        "    # Print normalized similarity scores\n",
        "    # print(\"\\nNormalized Content-based Similarities:\")\n",
        "    # print(cosine_similarities)\n",
        "    # print(\"\\nNormalized Collaborative Filtering Similarities:\")\n",
        "    # print(collaborative_similarities)\n",
        "\n",
        "\n",
        "    # Hybrid score\n",
        "    hybrid_scores = cosine_similarities + collaborative_similarities\n",
        "\n",
        "    # # Print hybrid scores\n",
        "    # print(\"\\nHybrid Scores:\")\n",
        "    # print(hybrid_scores)\n",
        "\n",
        "    # Get top N recommendations\n",
        "    top_indices = hybrid_scores.argsort()[-top_n:][::-1]\n",
        "    recommended_products = df.iloc[top_indices]\n",
        "\n",
        "    return recommended_products[['URL', 'Product_id', 'BrandName', 'Category', 'Description', 'Ratings', 'Reviews']]\n"
      ],
      "metadata": {
        "id": "NRHjfmgXspWQ"
      },
      "execution_count": null,
      "outputs": []
    },
    {
      "cell_type": "code",
      "source": [
        "\n",
        "def recommend_products(input_value, top_n=5):\n",
        "    # Initialize product as an empty DataFrame\n",
        "    product = pd.DataFrame()\n",
        "\n",
        "    # Check if input is URL, Product_id, or Description\n",
        "    if isinstance(input_value, str) and input_value.startswith('http'):\n",
        "        product = df[df['URL'] == input_value]\n",
        "    elif isinstance(input_value, str) and input_value.isnumeric():\n",
        "        product = df[df['Product_id'] == int(input_value)]\n",
        "    else:\n",
        "        product = df[df['Description'].str.contains(input_value, case=False, na=False)]\n",
        "\n",
        "    if product.empty:\n",
        "        return \"No matching product found.\"\n",
        "\n",
        "    product_index = product.index[0]\n",
        "\n",
        "    print(\"\\nMatched Product:\")\n",
        "    print(product)\n",
        "\n",
        "    # Content-based recommendation\n",
        "    cosine_similarities = cosine_similarity(tfidf_matrix[product_index], tfidf_matrix).flatten()\n",
        "\n",
        "    # Collaborative filtering recommendation\n",
        "    product_latent_vector = latent_matrix[product_index].reshape(1, -1)\n",
        "    collaborative_similarities = cosine_similarity(product_latent_vector, latent_matrix).flatten()\n",
        "\n",
        "    # Normalize scores\n",
        "    cosine_similarities = scaler.fit_transform(cosine_similarities.reshape(-1, 1)).flatten()\n",
        "    collaborative_similarities = scaler.fit_transform(collaborative_similarities.reshape(-1, 1)).flatten()\n",
        "\n",
        "    # Hybrid score\n",
        "    hybrid_scores = cosine_similarities + collaborative_similarities\n",
        "\n",
        "    # Get top N recommendations\n",
        "    top_indices = hybrid_scores.argsort()[-top_n:][::-1]\n",
        "    recommended_products = df.iloc[top_indices]\n",
        "\n",
        "    return recommended_products[['URL', 'Product_id', 'BrandName', 'Category', 'Description', 'Ratings', 'Reviews']]\n",
        "\n"
      ],
      "metadata": {
        "id": "KYx9yB7yGZ14"
      },
      "execution_count": null,
      "outputs": []
    },
    {
      "cell_type": "markdown",
      "source": [
        "#Output"
      ],
      "metadata": {
        "id": "hJMeF7lCWzmp"
      }
    },
    {
      "source": [
        "# Example usage\n",
        "input_value = 'https://www.myntra.com/jeans/roadster/roadster-men-navy-blue-slim-fit-mid-rise-clean-look-jeans/2296012/buy'\n",
        "recommendations = recommend_products(input_value)\n"
      ],
      "cell_type": "code",
      "metadata": {
        "id": "H0zVPwp1tBgm",
        "colab": {
          "base_uri": "https://localhost:8080/"
        },
        "outputId": "4f3411c0-2573-45db-c380-44b209105e80"
      },
      "execution_count": null,
      "outputs": [
        {
          "output_type": "stream",
          "name": "stdout",
          "text": [
            "\n",
            "Matched Product:\n",
            "                                                 URL  Product_id BrandName  \\\n",
            "0  https://www.myntra.com/jeans/roadster/roadster...     2296012  Roadster   \n",
            "\n",
            "      Category Individual_category category_by_Gender  \\\n",
            "0  Bottom Wear               jeans                Men   \n",
            "\n",
            "                                         Description  DiscountPrice (in Rs)  \\\n",
            "0  roadster men navy blue slim fit mid rise clean...                  824.0   \n",
            "\n",
            "   OriginalPrice (in Rs) DiscountOffer          SizeOption  Ratings  Reviews  \n",
            "0                   1499       45% OFF  28, 30, 32, 34, 36      3.9      999  \n"
          ]
        }
      ]
    },
    {
      "cell_type": "code",
      "source": [
        "# Print the recommended products\n",
        "print(\"\\nRecommended Products:\")\n",
        "print(recommendations)"
      ],
      "metadata": {
        "colab": {
          "base_uri": "https://localhost:8080/"
        },
        "id": "HvG_sSk--eoC",
        "outputId": "4f60519e-2b2e-4e05-c3c1-517714acd5dc"
      },
      "execution_count": null,
      "outputs": [
        {
          "output_type": "stream",
          "name": "stdout",
          "text": [
            "\n",
            "Recommended Products:\n",
            "                                                   URL  Product_id  \\\n",
            "0    https://www.myntra.com/jeans/roadster/roadster...     2296012   \n",
            "350  https://www.myntra.com/jeans/roadster/roadster...    10064543   \n",
            "494  https://www.myntra.com/jeans/roadster/roadster...    11274476   \n",
            "161  https://www.myntra.com/jeans/roadster/roadster...     8788237   \n",
            "366  https://www.myntra.com/jeans/mast--harbour/mas...    13077152   \n",
            "\n",
            "          BrandName     Category  \\\n",
            "0          Roadster  Bottom Wear   \n",
            "350        Roadster  Bottom Wear   \n",
            "494        Roadster  Bottom Wear   \n",
            "161        Roadster  Bottom Wear   \n",
            "366  Mast & Harbour  Bottom Wear   \n",
            "\n",
            "                                           Description  Ratings  Reviews  \n",
            "0    roadster men navy blue slim fit mid rise clean...      3.9      999  \n",
            "350  roadster men blue skinny fit mid rise clean lo...      3.8      930  \n",
            "494  roadster men blue skinny fit mid rise acid was...      3.8      904  \n",
            "161  roadster men blue skinny fit mid rise mildly d...      3.6      967  \n",
            "366  mast  harbour men navy blue skinny fit mid ris...      3.8      927  \n"
          ]
        }
      ]
    },
    {
      "source": [
        "# Example usage\n",
        "input_value = '2296012'\n",
        "recommendations = recommend_products(input_value)\n"
      ],
      "cell_type": "code",
      "metadata": {
        "colab": {
          "base_uri": "https://localhost:8080/"
        },
        "id": "GEDc3kTTGsjD",
        "outputId": "d7d0c0e8-11f4-435f-8077-f5c4bafb8183"
      },
      "execution_count": null,
      "outputs": [
        {
          "output_type": "stream",
          "name": "stdout",
          "text": [
            "\n",
            "Matched Product:\n",
            "                                                 URL  Product_id BrandName  \\\n",
            "0  https://www.myntra.com/jeans/roadster/roadster...     2296012  Roadster   \n",
            "\n",
            "      Category Individual_category category_by_Gender  \\\n",
            "0  Bottom Wear               jeans                Men   \n",
            "\n",
            "                                         Description  DiscountPrice (in Rs)  \\\n",
            "0  roadster men navy blue slim fit mid rise clean...                  824.0   \n",
            "\n",
            "   OriginalPrice (in Rs) DiscountOffer          SizeOption  Ratings  Reviews  \n",
            "0                   1499       45% OFF  28, 30, 32, 34, 36      3.9      999  \n"
          ]
        }
      ]
    },
    {
      "cell_type": "code",
      "source": [
        "# Print the recommended products\n",
        "print(\"\\nRecommended Products:\")\n",
        "print(recommendations)"
      ],
      "metadata": {
        "colab": {
          "base_uri": "https://localhost:8080/"
        },
        "id": "3sHh_WxZGsQn",
        "outputId": "3582577b-6f51-4488-a49a-a8be4c6905a9"
      },
      "execution_count": null,
      "outputs": [
        {
          "output_type": "stream",
          "name": "stdout",
          "text": [
            "\n",
            "Recommended Products:\n",
            "                                                   URL  Product_id  \\\n",
            "0    https://www.myntra.com/jeans/roadster/roadster...     2296012   \n",
            "350  https://www.myntra.com/jeans/roadster/roadster...    10064543   \n",
            "494  https://www.myntra.com/jeans/roadster/roadster...    11274476   \n",
            "161  https://www.myntra.com/jeans/roadster/roadster...     8788237   \n",
            "366  https://www.myntra.com/jeans/mast--harbour/mas...    13077152   \n",
            "\n",
            "          BrandName     Category  \\\n",
            "0          Roadster  Bottom Wear   \n",
            "350        Roadster  Bottom Wear   \n",
            "494        Roadster  Bottom Wear   \n",
            "161        Roadster  Bottom Wear   \n",
            "366  Mast & Harbour  Bottom Wear   \n",
            "\n",
            "                                           Description  Ratings  Reviews  \n",
            "0    roadster men navy blue slim fit mid rise clean...      3.9      999  \n",
            "350  roadster men blue skinny fit mid rise clean lo...      3.8      930  \n",
            "494  roadster men blue skinny fit mid rise acid was...      3.8      904  \n",
            "161  roadster men blue skinny fit mid rise mildly d...      3.6      967  \n",
            "366  mast  harbour men navy blue skinny fit mid ris...      3.8      927  \n"
          ]
        }
      ]
    },
    {
      "source": [
        "# Example usage\n",
        "input_value = 'zivame women grey tummy  thigh shaper zi0pssan03agrey'\n",
        "recommendations = recommend_products(input_value)\n"
      ],
      "cell_type": "code",
      "metadata": {
        "colab": {
          "base_uri": "https://localhost:8080/"
        },
        "id": "qBT6jUBJ_Eo7",
        "outputId": "39f98817-a24c-46b4-fbf0-e66b393aa4ce"
      },
      "execution_count": null,
      "outputs": [
        {
          "output_type": "stream",
          "name": "stdout",
          "text": [
            "\n",
            "Matched Product:\n",
            "                                                  URL  Product_id BrandName  \\\n",
            "80  https://www.myntra.com/shapewear/zivame/zivame...     7569310    Zivame   \n",
            "\n",
            "                 Category Individual_category category_by_Gender  \\\n",
            "80  Lingerie & Sleep Wear           shapewear              Women   \n",
            "\n",
            "                                          Description  DiscountPrice (in Rs)  \\\n",
            "80  zivame women grey tummy  thigh shaper zi0pssan...                  746.0   \n",
            "\n",
            "    OriginalPrice (in Rs) DiscountOffer        SizeOption  Ratings  Reviews  \n",
            "80                    995       25% OFF  S, M, L, XL, XXL      3.9      981  \n"
          ]
        }
      ]
    },
    {
      "cell_type": "code",
      "source": [
        "# Print the recommended products\n",
        "print(\"\\nRecommended Products:\")\n",
        "print(recommendations)"
      ],
      "metadata": {
        "colab": {
          "base_uri": "https://localhost:8080/"
        },
        "id": "zbBwZ4zB_EKs",
        "outputId": "cebb6179-d352-44fe-a464-3b137c783bd4"
      },
      "execution_count": null,
      "outputs": [
        {
          "output_type": "stream",
          "name": "stdout",
          "text": [
            "\n",
            "Recommended Products:\n",
            "                                                   URL  Product_id  \\\n",
            "80   https://www.myntra.com/shapewear/zivame/zivame...     7569310   \n",
            "441  https://www.myntra.com/shapewear/laceandme/lac...    12069880   \n",
            "100  https://www.myntra.com/tshirts/dressberry/dres...     2522852   \n",
            "471  https://www.myntra.com/dresses/tokyo-talkies/t...     4924933   \n",
            "119  https://www.myntra.com/kurtas/jaipur-kurti/jai...    10317827   \n",
            "\n",
            "         BrandName               Category  \\\n",
            "80          Zivame  Lingerie & Sleep Wear   \n",
            "441      Laceandme  Lingerie & Sleep Wear   \n",
            "100     DressBerry                Western   \n",
            "471  Tokyo Talkies                Western   \n",
            "119   Jaipur Kurti              Plus Size   \n",
            "\n",
            "                                           Description  Ratings  Reviews  \n",
            "80   zivame women grey tummy  thigh shaper zi0pssan...      3.9      981  \n",
            "441  laceandme women nude coloured solid shaper bri...      4.0      913  \n",
            "100  dressberry women grey melange printed round ne...      4.2      978  \n",
            "471  tokyo talkies women grey printed fit and flare...      3.9      909  \n",
            "119  jaipur kurti women grey  black checked straigh...      4.1      975  \n"
          ]
        }
      ]
    },
    {
      "cell_type": "code",
      "source": [],
      "metadata": {
        "id": "yDSWQHjl_Ys7"
      },
      "execution_count": null,
      "outputs": []
    }
  ]
}